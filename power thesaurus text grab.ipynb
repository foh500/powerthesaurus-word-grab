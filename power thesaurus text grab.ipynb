{
 "cells": [
  {
   "cell_type": "code",
   "execution_count": 1,
   "id": "f02803f0",
   "metadata": {},
   "outputs": [],
   "source": [
    "from textblob import TextBlob # https://textblob.readthedocs.io/\n",
    "from textblob import Blobber\n",
    "from textblob.sentiments import NaiveBayesAnalyzer\n",
    "\n",
    "from selenium import webdriver\n",
    "from selenium.webdriver.common.by import By\n",
    "import time\n",
    "import re\n",
    "from IPython.display import clear_output\n",
    "\n",
    "from pythonosc import osc_message_builder\n",
    "from pythonosc import udp_client"
   ]
  },
  {
   "cell_type": "code",
   "execution_count": 3,
   "id": "9a0bbadf",
   "metadata": {},
   "outputs": [
    {
     "name": "stdout",
     "output_type": "stream",
     "text": [
      "Word : persiflage\n",
      "Sentiment positive : 0.5\n",
      "Sentiment negative : 0.5\n",
      "Word length : 10.0\n"
     ]
    }
   ],
   "source": [
    "tb = Blobber(analyzer=NaiveBayesAnalyzer())\n",
    "driver = webdriver.Chrome()\n",
    "driver.get(\"https://www.powerthesaurus.org/\") # opens in new window\n",
    "time.sleep(1)\n",
    "\n",
    "try:\n",
    "    while True:\n",
    "        grabbed_text = (driver.find_element(By.XPATH, \"/html/body\").text)\n",
    "        m = re.search('Just searched\\n(.+?)\\n', grabbed_text)\n",
    "        if m:\n",
    "            just_searched = m.group(1)\n",
    "\n",
    "        blob = tb(just_searched)\n",
    "        sentiment_positive = blob.sentiment.p_pos\n",
    "        sentiment_negative = blob.sentiment.p_neg\n",
    "        word_length = len(just_searched) + 0.0 # convert to float\n",
    "        \n",
    "        # send OSC message\n",
    "        client = udp_client.UDPClient('127.0.0.1', 6448) # default wekinator address\n",
    "        msg = osc_message_builder.OscMessageBuilder(address = '/wek/inputs')\n",
    "        msg.add_arg(sentiment_positive)\n",
    "        msg.add_arg(sentiment_negative)\n",
    "        msg.add_arg(word_length)\n",
    "        msg = msg.build()\n",
    "        client.send(msg)\n",
    "\n",
    "        print(\"Word : \" + str(just_searched))\n",
    "        print(\"Sentiment positive : \" + str(sentiment_positive))\n",
    "        print(\"Sentiment negative : \" + str(sentiment_negative))\n",
    "        print(\"Word length : \" + str(word_length))\n",
    "        time.sleep(1)\n",
    "        clear_output(wait=True)                \n",
    "              \n",
    "except KeyboardInterrupt:\n",
    "    driver.close() # close powerthesaurus window"
   ]
  }
 ],
 "metadata": {
  "kernelspec": {
   "display_name": "Python 3 (ipykernel)",
   "language": "python",
   "name": "python3"
  },
  "language_info": {
   "codemirror_mode": {
    "name": "ipython",
    "version": 3
   },
   "file_extension": ".py",
   "mimetype": "text/x-python",
   "name": "python",
   "nbconvert_exporter": "python",
   "pygments_lexer": "ipython3",
   "version": "3.9.12"
  },
  "varInspector": {
   "cols": {
    "lenName": 16,
    "lenType": 16,
    "lenVar": 40
   },
   "kernels_config": {
    "python": {
     "delete_cmd_postfix": "",
     "delete_cmd_prefix": "del ",
     "library": "var_list.py",
     "varRefreshCmd": "print(var_dic_list())"
    },
    "r": {
     "delete_cmd_postfix": ") ",
     "delete_cmd_prefix": "rm(",
     "library": "var_list.r",
     "varRefreshCmd": "cat(var_dic_list()) "
    }
   },
   "types_to_exclude": [
    "module",
    "function",
    "builtin_function_or_method",
    "instance",
    "_Feature"
   ],
   "window_display": false
  }
 },
 "nbformat": 4,
 "nbformat_minor": 5
}
